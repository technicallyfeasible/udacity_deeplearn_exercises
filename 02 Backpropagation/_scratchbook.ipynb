{
 "cells": [
  {
   "cell_type": "code",
   "execution_count": 1,
   "id": "731a4e45",
   "metadata": {},
   "outputs": [],
   "source": [
    "import numpy as np\n",
    "\n",
    "def sigmoid(x):\n",
    "    return 1 / (1 + np.exp(-x))"
   ]
  },
  {
   "cell_type": "code",
   "execution_count": 3,
   "id": "70e26a30",
   "metadata": {},
   "outputs": [
    {
     "name": "stdout",
     "output_type": "stream",
     "text": [
      "1.3877787807814457e-16\n"
     ]
    }
   ],
   "source": [
    "err_1 = (1 - sigmoid(1 + 1)) + (0 - sigmoid(-1 - 1))\n",
    "print(err_1)"
   ]
  },
  {
   "cell_type": "code",
   "execution_count": 4,
   "id": "537a7c01",
   "metadata": {},
   "outputs": [
    {
     "name": "stdout",
     "output_type": "stream",
     "text": [
      "7.397754605696881e-17\n"
     ]
    }
   ],
   "source": [
    "err_2 = (1 - sigmoid(10 + 10)) + (0 - sigmoid(-10 - 10))\n",
    "print(err_2)"
   ]
  },
  {
   "cell_type": "code",
   "execution_count": null,
   "id": "ddd0ec7a",
   "metadata": {},
   "outputs": [],
   "source": []
  }
 ],
 "metadata": {
  "kernelspec": {
   "display_name": "Python 3",
   "language": "python",
   "name": "python3"
  },
  "language_info": {
   "codemirror_mode": {
    "name": "ipython",
    "version": 3
   },
   "file_extension": ".py",
   "mimetype": "text/x-python",
   "name": "python",
   "nbconvert_exporter": "python",
   "pygments_lexer": "ipython3",
   "version": "3.7.9"
  }
 },
 "nbformat": 4,
 "nbformat_minor": 5
}
